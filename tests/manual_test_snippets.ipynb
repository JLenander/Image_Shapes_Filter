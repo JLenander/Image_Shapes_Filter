{
 "cells": [
  {
   "cell_type": "markdown",
   "metadata": {},
   "source": [
    "# Manual Test Snippets\n",
    "Snippets for running specific examples of features"
   ]
  },
  {
   "cell_type": "markdown",
   "metadata": {},
   "source": [
    "## Basic random shapes"
   ]
  },
  {
   "cell_type": "code",
   "execution_count": null,
   "metadata": {},
   "outputs": [],
   "source": [
    "\"\"\"\n",
    "    Shape drawing demo with large bounding box\n",
    "    (500 extra pixels each dimension)\n",
    "    20 shapes, 10-300px shape size, 100x100 canvas\n",
    "\"\"\"\n",
    "import sys\n",
    "sys.path.append('..')\n",
    "sys.path.append('C:/Users/Joshua/Desktop/Coding/Python/image_shapes_approximation/program')\n",
    "\n",
    "from program import shape_generator\n",
    "\n",
    "from PIL import ImageShow, Image\n",
    "from time import sleep\n",
    "\n",
    "viewer = ImageShow.IPythonViewer()\n",
    "target = Image.open('imgs/squareColored.png').convert('RGB')\n",
    "canvas = Image.new('RGB', [target.width, target.height], (255, 255, 255))\n",
    "selector = shape_generator.random_shape_selector([(-500, -500), (target.width + 500, target.height + 500)], 10, 300)\n",
    "shapes = selector.random_shapes(target, 20)\n",
    "for shape in shapes:\n",
    "    selector.draw_shape(canvas, shape)\n",
    "    viewer.show(canvas)\n",
    "    sleep(0.2)"
   ]
  },
  {
   "cell_type": "code",
   "execution_count": null,
   "metadata": {},
   "outputs": [],
   "source": [
    "\"\"\"\n",
    "    Shape drawing demo with normal bounding box\n",
    "    20 shapes, 10-50px shape size, 100x100 canvas\n",
    "\"\"\"\n",
    "import sys\n",
    "sys.path.append('..')\n",
    "sys.path.append('C:/Users/Joshua/Desktop/Coding/Python/image_shapes_approximation/program')\n",
    "\n",
    "from program import shape_generator\n",
    "\n",
    "from PIL import ImageShow, Image\n",
    "from time import sleep\n",
    "\n",
    "viewer = ImageShow.IPythonViewer()\n",
    "target = Image.open('imgs/squareColored.png').convert('RGB')\n",
    "canvas = Image.new('RGB', [target.width, target.height], (255, 255, 255))\n",
    "selector = shape_generator.random_shape_selector([(-50, -50), (target.width + 50, target.height + 50)], 10, 50)\n",
    "shapes = selector.random_shapes(target, 20)\n",
    "for shape in shapes:\n",
    "    selector.draw_shape(canvas, shape)\n",
    "    viewer.show(canvas)\n",
    "    sleep(0.2)"
   ]
  },
  {
   "cell_type": "code",
   "execution_count": null,
   "metadata": {},
   "outputs": [],
   "source": [
    "\"\"\"\n",
    "    Shape drawing demo\n",
    "    500 shapes, 10-20px shape size, 100x100 canvas\n",
    "    Shows image every 50 shapes (10 images)\n",
    "\"\"\"\n",
    "import sys\n",
    "sys.path.append('..')\n",
    "sys.path.append('C:/Users/Joshua/Desktop/Coding/Python/image_shapes_approximation/program')\n",
    "\n",
    "from program import shape_generator\n",
    "\n",
    "from PIL import ImageShow, Image\n",
    "from time import sleep\n",
    "\n",
    "viewer = ImageShow.IPythonViewer()\n",
    "target = Image.open('imgs/squareColored.png').convert('RGB')\n",
    "canvas = Image.new('RGB', [target.width, target.height], (255, 255, 255))\n",
    "selector = shape_generator.random_shape_selector([(-50, -50), (target.width + 50, target.height + 50)], 10, 20)\n",
    "shapes = selector.random_shapes(target, 500)\n",
    "for i, shape in enumerate(shapes):\n",
    "    selector.draw_shape(canvas, shape)\n",
    "    if i % 50 == 0:\n",
    "        viewer.show(canvas)\n",
    "        sleep(0.2)"
   ]
  },
  {
   "cell_type": "code",
   "execution_count": null,
   "metadata": {},
   "outputs": [],
   "source": [
    "\"\"\"\n",
    "    Shape drawing demo, supplied image (1080p works best)\n",
    "    2000 shapes, 50-100px shape size\n",
    "    Shows image every 200 shapes (10 images)\n",
    "    Image should be roughly approximated by image but no smart behavior\n",
    "\"\"\"\n",
    "import sys\n",
    "sys.path.append('..')\n",
    "sys.path.append('C:/Users/Joshua/Desktop/Coding/Python/image_shapes_approximation/program')\n",
    "\n",
    "from program import shape_generator\n",
    "\n",
    "from PIL import ImageShow, Image\n",
    "from time import sleep\n",
    "\n",
    "viewer = ImageShow.IPythonViewer()\n",
    "target = Image.open(input('Relative Path to file').strip()).convert('RGB')\n",
    "canvas = Image.new('RGB', [target.width, target.height], (255, 255, 255))\n",
    "selector = shape_generator.random_shape_selector([(-100, -100), (target.width + 100, target.height + 100)], 50, 100)\n",
    "shapes = selector.random_shapes(target, 2000)\n",
    "for i, shape in enumerate(shapes):\n",
    "    selector.draw_shape(canvas, shape)\n",
    "    if i % 200 == 0:\n",
    "        viewer.show(canvas)"
   ]
  },
  {
   "cell_type": "markdown",
   "metadata": {},
   "source": [
    "## Variations/shape evolution testing"
   ]
  },
  {
   "cell_type": "code",
   "execution_count": null,
   "metadata": {},
   "outputs": [],
   "source": [
    "\"\"\"\n",
    "    Shape evolution\n",
    "    1 random shape, 30-50px shape size, 100x100 canvas\n",
    "    Shows 9 random evolutions of shape after first image\n",
    "    Color is always the average color of the shape's area in the target\n",
    "    Expect position and scale variations\n",
    "\"\"\"\n",
    "import sys\n",
    "sys.path.append('..')\n",
    "sys.path.append('C:/Users/Joshua/Desktop/Coding/Python/image_shapes_approximation/program')\n",
    "\n",
    "from program import shape_generator\n",
    "\n",
    "from PIL import ImageShow, Image\n",
    "from time import sleep\n",
    "\n",
    "viewer = ImageShow.IPythonViewer()\n",
    "target = Image.open('imgs/squareColored.png').convert('RGB')\n",
    "canvas = Image.new('RGB', [target.width, target.height], (255, 255, 255))\n",
    "selector = shape_generator.random_shape_selector([(-50, -50), (target.width + 50, target.height + 50)], 30, 50)\n",
    "shape = selector.random_shape(target)\n",
    "selector.draw_shape(canvas, shape)\n",
    "viewer.show(canvas)\n",
    "print('^ Original shape ^')\n",
    "\n",
    "for _ in range(9):\n",
    "    new_canvas = Image.new('RGB', [target.width, target.height], (255, 255, 255))\n",
    "    selector.draw_shape(new_canvas, selector.evolve_shape(target, shape))\n",
    "    viewer.show(new_canvas)"
   ]
  },
  {
   "cell_type": "code",
   "execution_count": null,
   "metadata": {},
   "outputs": [],
   "source": [
    "\"\"\"\n",
    "    Shape evolution, testing new shape on canvas\n",
    "    1 preselected shape, 30-50px shape size, 100x100 canvas\n",
    "    Shows 9 random evolutions of shape after first image\n",
    "    new shape should have minimum 1px (usually topleft) on canvas\n",
    "\"\"\"\n",
    "import sys\n",
    "sys.path.append('..')\n",
    "sys.path.append('C:/Users/Joshua/Desktop/Coding/Python/image_shapes_approximation/program')\n",
    "\n",
    "from program import shape_generator\n",
    "\n",
    "from PIL import ImageShow, Image\n",
    "from time import sleep\n",
    "\n",
    "viewer = ImageShow.IPythonViewer()\n",
    "target = Image.open('imgs/squareColored.png').convert('RGB')\n",
    "canvas = Image.new('RGB', [target.width, target.height], (255, 255, 255))\n",
    "selector = shape_generator.random_shape_selector([(-50, -50), (target.width + 50, target.height + 50)], 30, 50)\n",
    "random_PIL_shape = selector.shape_tuple\n",
    "shape = random_PIL_shape(shape='ellipse', xy=[(-10, -10), (5, 5)], color=(0, 0, 0))\n",
    "selector.draw_shape(canvas, shape)\n",
    "viewer.show(canvas)\n",
    "print('^ Original shape ^')\n",
    "\n",
    "for _ in range(9):\n",
    "    new_canvas = Image.new('RGB', [target.width, target.height], (255, 255, 255))\n",
    "    selector.draw_shape(new_canvas, selector.evolve_shape(target, shape))\n",
    "    viewer.show(new_canvas)\n",
    "    print(f'Expect extrema of (0, 255): {new_canvas.getextrema()}')"
   ]
  }
 ],
 "metadata": {
  "kernelspec": {
   "display_name": "Python 3.10.1 64-bit",
   "language": "python",
   "name": "python3"
  },
  "language_info": {
   "codemirror_mode": {
    "name": "ipython",
    "version": 3
   },
   "file_extension": ".py",
   "mimetype": "text/x-python",
   "name": "python",
   "nbconvert_exporter": "python",
   "pygments_lexer": "ipython3",
   "version": "3.10.1"
  },
  "orig_nbformat": 4,
  "vscode": {
   "interpreter": {
    "hash": "3fdbe576eb87f4baba6a23725f58c8da03c0612f6b5c93b1de163eb7f05251e9"
   }
  }
 },
 "nbformat": 4,
 "nbformat_minor": 2
}
